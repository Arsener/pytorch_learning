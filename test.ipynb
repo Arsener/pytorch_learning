{
 "cells": [
  {
   "cell_type": "code",
   "execution_count": 1,
   "metadata": {},
   "outputs": [
    {
     "name": "stdout",
     "output_type": "stream",
     "text": [
      "Net(\n",
      "  (conv1): Conv2d(1, 6, kernel_size=(5, 5), stride=(1, 1))\n",
      "  (conv2): Conv2d(6, 16, kernel_size=(5, 5), stride=(1, 1))\n",
      "  (fc1): Linear(in_features=400, out_features=120, bias=True)\n",
      "  (fc2): Linear(in_features=120, out_features=84, bias=True)\n",
      "  (fc3): Linear(in_features=84, out_features=10, bias=True)\n",
      ")\n"
     ]
    }
   ],
   "source": [
    "import torch\n",
    "import torch.nn as nn\n",
    "import torch.nn.functional as F\n",
    "\n",
    "\n",
    "class Net(nn.Module):\n",
    "\n",
    "    def __init__(self):\n",
    "        super(Net, self).__init__()\n",
    "        # 1 input image channel, 6 output channels, 5x5 square convolution\n",
    "        # kernel\n",
    "        self.conv1 = nn.Conv2d(1, 6, 5)\n",
    "        self.conv2 = nn.Conv2d(6, 16, 5)\n",
    "        # an affine operation: y = Wx + b\n",
    "        self.fc1 = nn.Linear(16 * 5 * 5, 120)\n",
    "        self.fc2 = nn.Linear(120, 84)\n",
    "        self.fc3 = nn.Linear(84, 10)\n",
    "\n",
    "    def forward(self, x):\n",
    "        # Max pooling over a (2, 2) window\n",
    "        x = F.max_pool2d(F.relu(self.conv1(x)), (2, 2))\n",
    "        # If the size is a square you can only specify a single number\n",
    "        x = F.max_pool2d(F.relu(self.conv2(x)), 2)\n",
    "        x = x.view(-1, self.num_flat_features(x))\n",
    "        x = F.relu(self.fc1(x))\n",
    "        x = F.relu(self.fc2(x))\n",
    "        x = self.fc3(x)\n",
    "        return x\n",
    "\n",
    "    def num_flat_features(self, x):\n",
    "        size = x.size()[1:]  # all dimensions except the batch dimension\n",
    "        num_features = 1\n",
    "        for s in size:\n",
    "            num_features *= s\n",
    "        return num_features\n",
    "\n",
    "\n",
    "net = Net()\n",
    "print(net)"
   ]
  },
  {
   "cell_type": "code",
   "execution_count": 2,
   "metadata": {},
   "outputs": [
    {
     "data": {
      "text/plain": [
       "array([[-0.39737674,  0.61583117, -0.630188  , -1.04767903, -0.17429835,\n",
       "         0.56910014],\n",
       "       [-0.57453371, -0.49501979, -0.20535708,  0.25945837,  1.07152031,\n",
       "        -0.08334899],\n",
       "       [ 0.70000984,  1.12123721,  2.24690877, -0.42452861, -0.37781427,\n",
       "         1.44820397],\n",
       "       [ 0.91191049,  1.13787266, -0.6347265 ,  0.43807323, -0.0160751 ,\n",
       "         1.98793071]])"
      ]
     },
     "execution_count": 2,
     "metadata": {},
     "output_type": "execute_result"
    }
   ],
   "source": [
    "import numpy as np\n",
    "x = np.random.randn(4, 6)\n",
    "y = x\n",
    "y"
   ]
  },
  {
   "cell_type": "code",
   "execution_count": 5,
   "metadata": {},
   "outputs": [
    {
     "data": {
      "text/plain": [
       "tensor([[-0.3974,  0.6158, -0.6302, -1.0477, -0.1743,  0.5691],\n",
       "        [-0.5745, -0.4950, -0.2054,  0.2595,  1.0715, -0.0833],\n",
       "        [ 0.7000,  1.1212,  2.2469, -0.4245, -0.3778,  1.4482],\n",
       "        [ 0.9119,  1.1379, -0.6347,  0.4381, -0.0161,  1.9879]],\n",
       "       dtype=torch.float64)"
      ]
     },
     "execution_count": 5,
     "metadata": {},
     "output_type": "execute_result"
    }
   ],
   "source": [
    "y = torch.from_numpy(x)\n",
    "y"
   ]
  },
  {
   "cell_type": "code",
   "execution_count": 54,
   "metadata": {},
   "outputs": [
    {
     "data": {
      "text/plain": [
       "array([[11.        ,  1.87825923,  1.26400251,  1.25774188,  1.19708124,\n",
       "         1.88986279],\n",
       "       [ 1.55921362,  1.91425568,  1.74037082,  1.93539341,  1.83149051,\n",
       "         1.8351259 ],\n",
       "       [ 1.15556411,  1.09042977,  1.74788381,  1.34455246,  1.9233555 ,\n",
       "         1.30660249],\n",
       "       [ 1.69248565,  1.46660078,  1.85650754,  1.17102399,  1.87938364,\n",
       "         1.09816538]])"
      ]
     },
     "execution_count": 54,
     "metadata": {},
     "output_type": "execute_result"
    }
   ],
   "source": [
    "np.add(x, 1, out=x)\n",
    "x"
   ]
  },
  {
   "cell_type": "code",
   "execution_count": 55,
   "metadata": {},
   "outputs": [
    {
     "data": {
      "text/plain": [
       "array([[11.        ,  1.87825923,  1.26400251,  1.25774188,  1.19708124,\n",
       "         1.88986279],\n",
       "       [ 1.55921362,  1.91425568,  1.74037082,  1.93539341,  1.83149051,\n",
       "         1.8351259 ],\n",
       "       [ 1.15556411,  1.09042977,  1.74788381,  1.34455246,  1.9233555 ,\n",
       "         1.30660249],\n",
       "       [ 1.69248565,  1.46660078,  1.85650754,  1.17102399,  1.87938364,\n",
       "         1.09816538]])"
      ]
     },
     "execution_count": 55,
     "metadata": {},
     "output_type": "execute_result"
    }
   ],
   "source": [
    "y"
   ]
  },
  {
   "cell_type": "code",
   "execution_count": 63,
   "metadata": {},
   "outputs": [
    {
     "data": {
      "text/plain": [
       "array([[10.        ,  1.11236339,  0.        ,  0.11744267,  0.22606486,\n",
       "         0.        ],\n",
       "       [ 0.        ,  0.46217533,  0.        ,  0.98774096,  0.        ,\n",
       "         0.        ],\n",
       "       [ 0.23165931,  0.        ,  2.23047909,  0.        ,  0.        ,\n",
       "         0.54058861],\n",
       "       [ 1.50554324,  0.54163424,  0.14517687,  0.        ,  0.        ,\n",
       "         0.41554909]])"
      ]
     },
     "execution_count": 63,
     "metadata": {},
     "output_type": "execute_result"
    }
   ],
   "source": [
    "np.maximum(0, x)"
   ]
  },
  {
   "cell_type": "code",
   "execution_count": 9,
   "metadata": {},
   "outputs": [
    {
     "data": {
      "text/plain": [
       "tensor([1, 3])"
      ]
     },
     "execution_count": 9,
     "metadata": {},
     "output_type": "execute_result"
    }
   ],
   "source": [
    "torch.tensor([1, 3])"
   ]
  },
  {
   "cell_type": "code",
   "execution_count": 10,
   "metadata": {},
   "outputs": [
    {
     "data": {
      "text/plain": [
       "tensor([[[-5.6600e-01, -4.4033e-01, -1.8094e-03,  5.2637e-01, -6.9864e-01,\n",
       "          -1.5922e-01,  1.9976e-01, -5.0721e-01,  3.4413e-01,  1.0499e+00],\n",
       "         [ 5.6158e-01, -6.2394e-01,  2.3956e+00,  1.4199e+00,  1.9983e+00,\n",
       "          -6.0683e-01,  8.1836e-01, -8.7652e-02, -6.7614e-01,  1.0098e-01],\n",
       "         [ 6.4413e-01, -1.6483e-01,  1.0771e+00,  5.4996e-01, -7.5819e-01,\n",
       "          -1.9089e+00, -1.0025e+00,  3.7566e-01,  7.1006e-01,  1.3471e+00]],\n",
       "\n",
       "        [[-3.0396e-01, -2.6517e-01, -3.9588e-01, -1.5038e-01, -1.4528e+00,\n",
       "          -7.4300e-01, -1.4268e+00, -7.6485e-01, -2.3237e-01,  6.4778e-03],\n",
       "         [-8.5077e-01, -9.8424e-01,  1.5882e+00, -1.0230e+00, -1.2409e+00,\n",
       "           1.2831e-01,  1.9666e-01, -5.5582e-01, -1.4601e+00,  7.1266e-02],\n",
       "         [ 9.3744e-01, -3.1936e-01, -1.0136e-01, -5.8739e-01, -4.9803e-01,\n",
       "           1.0747e-01, -9.2243e-02,  6.2425e-01, -4.9104e-01,  4.4060e-01]],\n",
       "\n",
       "        [[ 1.0437e+00,  6.1086e-01,  8.7551e-01, -4.0370e-01, -2.4223e-02,\n",
       "           3.1963e-01, -7.1596e-01,  6.0902e-01,  4.4786e-01, -3.4595e-01],\n",
       "         [-7.3339e-01,  2.3799e-01,  3.5811e-01,  4.4746e-01,  8.5554e-01,\n",
       "          -5.2238e-01, -5.4992e-01, -1.5306e+00,  1.4022e+00,  1.3812e+00],\n",
       "         [-3.7134e-01,  2.2382e-02,  3.9996e-01, -6.3943e-02, -7.7654e-02,\n",
       "          -1.0860e+00,  1.2518e+00,  3.0592e-01,  1.6070e+00, -7.8843e-01]],\n",
       "\n",
       "        [[ 1.6371e+00, -3.4868e-01,  3.0676e-01, -8.0676e-01,  4.7239e-01,\n",
       "           3.8202e-01, -5.6894e-01, -7.3142e-01,  1.6345e+00, -1.0603e+00],\n",
       "         [-2.4736e-01,  1.2123e+00, -7.8074e-01,  1.5822e-01,  2.6742e+00,\n",
       "          -1.5590e+00,  1.5430e+00, -1.7912e-01,  1.7830e+00, -1.3320e+00],\n",
       "         [-1.0542e-01,  1.2364e+00,  1.6650e+00,  9.3147e-01,  4.9949e-01,\n",
       "          -5.4859e-01, -1.2606e+00,  1.4315e+00, -4.3396e-01, -8.9147e-01]],\n",
       "\n",
       "        [[ 5.0734e-02,  4.2107e-01, -1.1953e+00, -1.0778e+00, -4.8758e-01,\n",
       "          -1.9071e+00, -1.4221e-01, -3.6688e-01, -5.7677e-02, -8.2602e-02],\n",
       "         [-4.2185e-01, -3.3265e-01, -8.3360e-02, -3.2232e-01, -1.0944e-01,\n",
       "           6.2625e-01, -1.5867e+00, -6.5621e-01,  9.1814e-01, -1.4044e+00],\n",
       "         [ 6.5818e-01, -1.4327e-01,  7.3666e-01, -1.4124e+00, -1.1626e-01,\n",
       "           1.0636e+00, -7.8370e-01, -1.9866e+00,  4.9579e-01, -3.9935e-01]]])"
      ]
     },
     "execution_count": 10,
     "metadata": {},
     "output_type": "execute_result"
    }
   ],
   "source": [
    "torch.randn(5, 3, 10)"
   ]
  },
  {
   "cell_type": "code",
   "execution_count": 11,
   "metadata": {},
   "outputs": [],
   "source": [
    "rnn = nn.LSTM(10, 20, 2)\n",
    "input = torch.randn(5, 3, 10)\n",
    "h0 = torch.randn(2, 3, 20)\n",
    "c0 = torch.randn(2, 3, 20)\n",
    "output, (hn, cn) = rnn(input, (h0, c0))"
   ]
  },
  {
   "cell_type": "code",
   "execution_count": 12,
   "metadata": {},
   "outputs": [
    {
     "data": {
      "text/plain": [
       "torch.Size([5, 3, 20])"
      ]
     },
     "execution_count": 12,
     "metadata": {},
     "output_type": "execute_result"
    }
   ],
   "source": [
    "output.shape"
   ]
  },
  {
   "cell_type": "code",
   "execution_count": null,
   "metadata": {},
   "outputs": [],
   "source": []
  }
 ],
 "metadata": {
  "kernelspec": {
   "display_name": "Python 3",
   "language": "python",
   "name": "python3"
  },
  "language_info": {
   "codemirror_mode": {
    "name": "ipython",
    "version": 3
   },
   "file_extension": ".py",
   "mimetype": "text/x-python",
   "name": "python",
   "nbconvert_exporter": "python",
   "pygments_lexer": "ipython3",
   "version": "3.7.6"
  }
 },
 "nbformat": 4,
 "nbformat_minor": 4
}
