{
 "cells": [
  {
   "cell_type": "code",
   "execution_count": 1,
   "metadata": {},
   "outputs": [
    {
     "name": "stdout",
     "output_type": "stream",
     "text": [
      "Net(\n",
      "  (conv1): Conv2d(1, 6, kernel_size=(5, 5), stride=(1, 1))\n",
      "  (conv2): Conv2d(6, 16, kernel_size=(5, 5), stride=(1, 1))\n",
      "  (fc1): Linear(in_features=400, out_features=120, bias=True)\n",
      "  (fc2): Linear(in_features=120, out_features=84, bias=True)\n",
      "  (fc3): Linear(in_features=84, out_features=10, bias=True)\n",
      ")\n"
     ]
    }
   ],
   "source": [
    "import torch\n",
    "import torch.nn as nn\n",
    "import torch.nn.functional as F\n",
    "\n",
    "\n",
    "class Net(nn.Module):\n",
    "\n",
    "    def __init__(self):\n",
    "        super(Net, self).__init__()\n",
    "        # 1 input image channel, 6 output channels, 5x5 square convolution\n",
    "        # kernel\n",
    "        self.conv1 = nn.Conv2d(1, 6, 5)\n",
    "        self.conv2 = nn.Conv2d(6, 16, 5)\n",
    "        # an affine operation: y = Wx + b\n",
    "        self.fc1 = nn.Linear(16 * 5 * 5, 120)\n",
    "        self.fc2 = nn.Linear(120, 84)\n",
    "        self.fc3 = nn.Linear(84, 10)\n",
    "\n",
    "    def forward(self, x):\n",
    "        # Max pooling over a (2, 2) window\n",
    "        x = F.max_pool2d(F.relu(self.conv1(x)), (2, 2))\n",
    "        # If the size is a square you can only specify a single number\n",
    "        x = F.max_pool2d(F.relu(self.conv2(x)), 2)\n",
    "        x = x.view(-1, self.num_flat_features(x))\n",
    "        x = F.relu(self.fc1(x))\n",
    "        x = F.relu(self.fc2(x))\n",
    "        x = self.fc3(x)\n",
    "        return x\n",
    "\n",
    "    def num_flat_features(self, x):\n",
    "        size = x.size()[1:]  # all dimensions except the batch dimension\n",
    "        num_features = 1\n",
    "        for s in size:\n",
    "            num_features *= s\n",
    "        return num_features\n",
    "\n",
    "\n",
    "net = Net()\n",
    "print(net)"
   ]
  },
  {
   "cell_type": "code",
   "execution_count": 56,
   "metadata": {},
   "outputs": [
    {
     "data": {
      "text/plain": [
       "array([[ 1.08376545,  1.11236339, -1.35916605,  0.11744267,  0.22606486,\n",
       "        -0.49807782],\n",
       "       [-0.1623238 ,  0.46217533, -2.49097479,  0.98774096, -1.09123012,\n",
       "        -0.30611717],\n",
       "       [ 0.23165931, -0.38199489,  2.23047909, -0.51703467, -0.32041198,\n",
       "         0.54058861],\n",
       "       [ 1.50554324,  0.54163424,  0.14517687, -1.43170634, -0.03600347,\n",
       "         0.41554909]])"
      ]
     },
     "execution_count": 56,
     "metadata": {},
     "output_type": "execute_result"
    }
   ],
   "source": [
    "import numpy as np\n",
    "x = np.random.randn(4, 6)\n",
    "y = x\n",
    "y"
   ]
  },
  {
   "cell_type": "code",
   "execution_count": 57,
   "metadata": {},
   "outputs": [
    {
     "data": {
      "text/plain": [
       "(array([[10.        ,  1.11236339, -1.35916605,  0.11744267,  0.22606486,\n",
       "         -0.49807782],\n",
       "        [-0.1623238 ,  0.46217533, -2.49097479,  0.98774096, -1.09123012,\n",
       "         -0.30611717],\n",
       "        [ 0.23165931, -0.38199489,  2.23047909, -0.51703467, -0.32041198,\n",
       "          0.54058861],\n",
       "        [ 1.50554324,  0.54163424,  0.14517687, -1.43170634, -0.03600347,\n",
       "          0.41554909]]),\n",
       " array([[10.        ,  1.11236339, -1.35916605,  0.11744267,  0.22606486,\n",
       "         -0.49807782],\n",
       "        [-0.1623238 ,  0.46217533, -2.49097479,  0.98774096, -1.09123012,\n",
       "         -0.30611717],\n",
       "        [ 0.23165931, -0.38199489,  2.23047909, -0.51703467, -0.32041198,\n",
       "          0.54058861],\n",
       "        [ 1.50554324,  0.54163424,  0.14517687, -1.43170634, -0.03600347,\n",
       "          0.41554909]]))"
      ]
     },
     "execution_count": 57,
     "metadata": {},
     "output_type": "execute_result"
    }
   ],
   "source": [
    "x[0][0] = 10;\n",
    "x, y"
   ]
  },
  {
   "cell_type": "code",
   "execution_count": 54,
   "metadata": {},
   "outputs": [
    {
     "data": {
      "text/plain": [
       "array([[11.        ,  1.87825923,  1.26400251,  1.25774188,  1.19708124,\n",
       "         1.88986279],\n",
       "       [ 1.55921362,  1.91425568,  1.74037082,  1.93539341,  1.83149051,\n",
       "         1.8351259 ],\n",
       "       [ 1.15556411,  1.09042977,  1.74788381,  1.34455246,  1.9233555 ,\n",
       "         1.30660249],\n",
       "       [ 1.69248565,  1.46660078,  1.85650754,  1.17102399,  1.87938364,\n",
       "         1.09816538]])"
      ]
     },
     "execution_count": 54,
     "metadata": {},
     "output_type": "execute_result"
    }
   ],
   "source": [
    "np.add(x, 1, out=x)\n",
    "x"
   ]
  },
  {
   "cell_type": "code",
   "execution_count": 55,
   "metadata": {},
   "outputs": [
    {
     "data": {
      "text/plain": [
       "array([[11.        ,  1.87825923,  1.26400251,  1.25774188,  1.19708124,\n",
       "         1.88986279],\n",
       "       [ 1.55921362,  1.91425568,  1.74037082,  1.93539341,  1.83149051,\n",
       "         1.8351259 ],\n",
       "       [ 1.15556411,  1.09042977,  1.74788381,  1.34455246,  1.9233555 ,\n",
       "         1.30660249],\n",
       "       [ 1.69248565,  1.46660078,  1.85650754,  1.17102399,  1.87938364,\n",
       "         1.09816538]])"
      ]
     },
     "execution_count": 55,
     "metadata": {},
     "output_type": "execute_result"
    }
   ],
   "source": [
    "y"
   ]
  },
  {
   "cell_type": "code",
   "execution_count": 63,
   "metadata": {},
   "outputs": [
    {
     "data": {
      "text/plain": [
       "array([[10.        ,  1.11236339,  0.        ,  0.11744267,  0.22606486,\n",
       "         0.        ],\n",
       "       [ 0.        ,  0.46217533,  0.        ,  0.98774096,  0.        ,\n",
       "         0.        ],\n",
       "       [ 0.23165931,  0.        ,  2.23047909,  0.        ,  0.        ,\n",
       "         0.54058861],\n",
       "       [ 1.50554324,  0.54163424,  0.14517687,  0.        ,  0.        ,\n",
       "         0.41554909]])"
      ]
     },
     "execution_count": 63,
     "metadata": {},
     "output_type": "execute_result"
    }
   ],
   "source": [
    "np.maximum(0, x)"
   ]
  },
  {
   "cell_type": "code",
   "execution_count": null,
   "metadata": {},
   "outputs": [],
   "source": []
  }
 ],
 "metadata": {
  "kernelspec": {
   "display_name": "Python 3",
   "language": "python",
   "name": "python3"
  },
  "language_info": {
   "codemirror_mode": {
    "name": "ipython",
    "version": 3
   },
   "file_extension": ".py",
   "mimetype": "text/x-python",
   "name": "python",
   "nbconvert_exporter": "python",
   "pygments_lexer": "ipython3",
   "version": "3.7.6"
  }
 },
 "nbformat": 4,
 "nbformat_minor": 4
}
